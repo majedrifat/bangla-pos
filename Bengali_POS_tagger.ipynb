{
  "cells": [
    {
      "cell_type": "code",
      "execution_count": null,
      "metadata": {
        "id": "JGjBhAwssGFh"
      },
      "outputs": [],
      "source": [
        "import nltk\n",
        "from nltk.corpus import indian\n",
        "from nltk.tag import tnt\n",
        "import string\n",
        "import numpy as np"
      ]
    },
    {
      "cell_type": "code",
      "execution_count": null,
      "metadata": {
        "id": "Wa97Pq68sGFl"
      },
      "outputs": [],
      "source": [
        "nltk.download('indian')\n",
        "nltk.download('punkt')"
      ]
    },
    {
      "cell_type": "code",
      "execution_count": null,
      "metadata": {
        "id": "ECgQBXAEsGFn"
      },
      "outputs": [],
      "source": [
        "tagged_set = 'bangla.pos'\n",
        "word_set = indian.sents(tagged_set)\n",
        "count = 0\n",
        "for sen in word_set:\n",
        "    count = count + 1\n",
        "    sen = \"\".join([\" \"+i if not i.startswith(\"'\") and i not in string.punctuation else i for i in sen]).strip()\n",
        "    print (count, sen)\n",
        "print ('Total sentences in the tagged file are',count)\n",
        "\n",
        "train_perc = .86\n",
        "\n",
        "train_rows = int(train_perc*count)\n",
        "test_rows = train_rows + 1\n",
        "\n",
        "print ('Sentences to be trained',train_rows, 'Sentences to be tested against',test_rows)"
      ]
    },
    {
      "cell_type": "code",
      "execution_count": null,
      "metadata": {
        "id": "NqV1BaussGFq"
      },
      "outputs": [],
      "source": [
        "data = indian.tagged_sents(tagged_set)\n",
        "train_data = data[:train_rows] \n",
        "test_data = data[test_rows:]\n",
        "pos_tagger = tnt.TnT()\n",
        "pos_tagger.train(train_data)\n",
        "pos_tagger.evaluate(test_data)"
      ]
    },
    {
      "cell_type": "code",
      "execution_count": null,
      "metadata": {
        "id": "Gl39-dYAsGFs"
      },
      "outputs": [],
      "source": [
        "def getFeatures(sentence, index):\n",
        "    token, tag = sentence[index]\n",
        "    prev_token = \"\"\n",
        "    if index > 0:\n",
        "        prev_token, prev_tag = sentence[index - 1]\n",
        "    is_number = False\n",
        "    try:\n",
        "        if float(token):\n",
        "            is_number = True\n",
        "    except:\n",
        "        pass\n",
        "    features_dict = {\"token\": token,\n",
        "                     'first_word': index == -1\n",
        "                     , \"lower_cased_token\": token\n",
        "                     , \"prev_token\": prev_token\n",
        "                     ,'prefix(1)': sentence[index][0]\n",
        "                     , \"is_number\": is_number}\n",
        "    return features_dict"
      ]
    },
    {
      "cell_type": "code",
      "execution_count": null,
      "metadata": {
        "id": "TTCuQmTNsGFt"
      },
      "outputs": [],
      "source": [
        "data"
      ]
    },
    {
      "cell_type": "code",
      "execution_count": null,
      "metadata": {
        "id": "KKGR1JjJsGFu"
      },
      "outputs": [],
      "source": [
        "getFeatures(data[0],1)"
      ]
    },
    {
      "cell_type": "code",
      "execution_count": null,
      "metadata": {
        "id": "d5mvmcFPsGFv"
      },
      "outputs": [],
      "source": [
        "from sklearn.feature_extraction import DictVectorizer\n",
        "X_features = []\n",
        "for sentence in data:\n",
        "    for k in range(len(sentence)):\n",
        "        X_features.append(getFeatures(sentence, k))\n",
        "\n",
        "vectoriser = DictVectorizer()\n",
        "X = vectoriser.fit_transform(X_features)"
      ]
    },
    {
      "cell_type": "code",
      "execution_count": null,
      "metadata": {
        "id": "wxUhN-RpsGFw"
      },
      "outputs": [],
      "source": [
        "X.shape"
      ]
    },
    {
      "cell_type": "code",
      "execution_count": null,
      "metadata": {
        "id": "D1WtORqusGFx"
      },
      "outputs": [],
      "source": [
        "Y = []\n",
        "for sentence in data:\n",
        "    for k in range(len(sentence)):\n",
        "        Y.append(sentence[k][1])"
      ]
    },
    {
      "cell_type": "code",
      "execution_count": null,
      "metadata": {
        "id": "wfGm0ZcmsGFy"
      },
      "outputs": [],
      "source": [
        "len(Y)"
      ]
    },
    {
      "cell_type": "code",
      "execution_count": null,
      "metadata": {
        "id": "lcWrQoErsGFz"
      },
      "outputs": [],
      "source": [
        "from sklearn.model_selection import train_test_split\n",
        "xtrain, xvalid, ytrain, yvalid = train_test_split(X, Y,\n",
        "                                                  random_state=32,\n",
        "                                                  test_size=0.25, shuffle=True)"
      ]
    },
    {
      "cell_type": "code",
      "execution_count": null,
      "metadata": {
        "id": "HgXRpdOqsGF0"
      },
      "outputs": [],
      "source": [
        "from sklearn.naive_bayes import MultinomialNB\n",
        "from sklearn.model_selection import cross_val_score\n",
        "clf = MultinomialNB()\n",
        "clf.fit(xtrain,ytrain)\n",
        "\n",
        "scores = cross_val_score(clf, xtrain, ytrain, cv=10)\n",
        "print('Bengali POS tagging Accuracy: %.3f' % (np.mean(scores)*100))"
      ]
    },
    {
      "cell_type": "code",
      "execution_count": null,
      "metadata": {
        "id": "XBV66IV_sGF1"
      },
      "outputs": [],
      "source": [
        "from sklearn.metrics import confusion_matrix\n",
        "predictions = clf.predict_proba(xvalid)\n",
        "predicted_lables = clf.predict(xvalid)\n",
        "\n",
        "confusion_matrix = confusion_matrix(yvalid, predicted_lables)"
      ]
    },
    {
      "cell_type": "code",
      "execution_count": null,
      "metadata": {
        "id": "NLrAAbb7sGF2"
      },
      "outputs": [],
      "source": [
        "confusion_matrix"
      ]
    },
    {
      "cell_type": "code",
      "execution_count": null,
      "metadata": {
        "id": "hZA12w4EsGF2"
      },
      "outputs": [],
      "source": []
    }
  ],
  "metadata": {
    "kernelspec": {
      "display_name": "Python 3",
      "language": "python",
      "name": "python3"
    },
    "language_info": {
      "codemirror_mode": {
        "name": "ipython",
        "version": 3
      },
      "file_extension": ".py",
      "mimetype": "text/x-python",
      "name": "python",
      "nbconvert_exporter": "python",
      "pygments_lexer": "ipython3",
      "version": "3.7.3"
    },
    "colab": {
      "provenance": []
    }
  },
  "nbformat": 4,
  "nbformat_minor": 0
}